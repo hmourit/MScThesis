{
 "cells": [
  {
   "cell_type": "markdown",
   "metadata": {},
   "source": [
    "### Imports"
   ]
  },
  {
   "cell_type": "code",
   "execution_count": 1,
   "metadata": {
    "collapsed": false
   },
   "outputs": [
    {
     "name": "stdout",
     "output_type": "stream",
     "text": [
      "Current directory: /Users/hmourit/Documents/0project/MScThesis/notebooks\n"
     ]
    }
   ],
   "source": [
    "from __future__ import print_function, division\n",
    "import pandas as pd\n",
    "import numpy as np\n",
    "import matplotlib.pyplot as plt\n",
    "%matplotlib inline\n",
    "import seaborn as sns\n",
    "from ggplot import *\n",
    "import json\n",
    "\n",
    "import os\n",
    "from os.path import join\n",
    "print('Current directory: {}'.format(os.getcwd()))\n",
    "import sys\n",
    "sys.path.append('..')\n",
    "from glob import glob\n",
    "from pprint import pprint\n",
    "from time import time\n",
    "\n",
    "import subprocess\n",
    "import re"
   ]
  },
  {
   "cell_type": "markdown",
   "metadata": {},
   "source": [
    "### General constants"
   ]
  },
  {
   "cell_type": "code",
   "execution_count": 2,
   "metadata": {
    "collapsed": true
   },
   "outputs": [],
   "source": [
    "DATA_PATH = '../../bucket/data/'\n",
    "RESULTS_PATH = '../../bucket/results/'"
   ]
  },
  {
   "cell_type": "markdown",
   "metadata": {},
   "source": [
    "### Latex table generation"
   ]
  },
  {
   "cell_type": "markdown",
   "metadata": {},
   "source": [
    "#### Some constants"
   ]
  },
  {
   "cell_type": "code",
   "execution_count": 11,
   "metadata": {
    "collapsed": true
   },
   "outputs": [],
   "source": [
    "CAPTION_PLACEHOLDER = r'caption:placeholder'\n",
    "REMOVE_N_FEATURES = r'^n\\\\_features*'\n",
    "\n",
    "TABLES_FOLDER = '~/Dropbox/MSc Thesis/tables'"
   ]
  },
  {
   "cell_type": "markdown",
   "metadata": {},
   "source": [
    "#### Util functions"
   ]
  },
  {
   "cell_type": "code",
   "execution_count": 6,
   "metadata": {
    "collapsed": true
   },
   "outputs": [],
   "source": [
    "def mean_pm_std(mean, std):\n",
    "    return '{:1.2f}$\\pm${:1.2f}'.format(mean, std)\n",
    "mean_pm_std = np.vectorize(mean_pm_std)"
   ]
  },
  {
   "cell_type": "code",
   "execution_count": 7,
   "metadata": {
    "collapsed": true
   },
   "outputs": [],
   "source": [
    "def pbcopy(data):\n",
    "    \"\"\"Copy data to clipboard.\"\"\"\n",
    "    p = subprocess.Popen(['pbcopy'], stdin=subprocess.PIPE) \n",
    "    p.stdin.write(data) \n",
    "    p.stdin.close() \n",
    "    retcode = p.wait()"
   ]
  },
  {
   "cell_type": "code",
   "execution_count": 8,
   "metadata": {
    "collapsed": true
   },
   "outputs": [],
   "source": [
    "def bold_center(cell):\n",
    "    return r'\\mc{1}{c}{\\textbf{' + cell + '}}'"
   ]
  },
  {
   "cell_type": "code",
   "execution_count": 9,
   "metadata": {
    "collapsed": true
   },
   "outputs": [],
   "source": [
    "def process_latex(tabular, remove_lines=None):\n",
    "    replacements = {\n",
    "        ' en ': bold_center('EN'),\n",
    "        'svm\\_linear\\_kernel': bold_center('SVM'),\n",
    "        'svm\\_linear\\_l1': bold_center('L1-SVM'),\n",
    "        r'\\$\\textbackslashpm\\$': r'$\\pm$',\n",
    "        'clf': bold_center('CLF'),\n",
    "        r'infogain\\_10': bold_center('IG D1'),\n",
    "        r'infogain\\_exp': bold_center('IG D2')\n",
    "    }\n",
    "    \n",
    "    if remove_lines and not isinstance(remove_lines, list):\n",
    "        remove_lines = [remove_lines]\n",
    "    \n",
    "    purged_tabular = []\n",
    "    for line in tabular.split('\\n'):\n",
    "        if r'\\begin{tabular}' in line:\n",
    "            begin_tabular = line.split('}{')\n",
    "            line = begin_tabular[0] + '}'\n",
    "            line += '{' + begin_tabular[1].replace('l', 'r')\n",
    "            purged_tabular.append(line)\n",
    "        elif remove_lines and not any(re.match(pattern, line) for pattern in remove_lines):\n",
    "            purged_tabular.append(line)\n",
    "    tabular = '\\n'.join(purged_tabular)\n",
    "    \n",
    "    for x in replacements:\n",
    "        tabular = tabular.replace(x, replacements[x])\n",
    "        \n",
    "    table_env_begin = r\"\"\"\\begin{table}[!h]\n",
    "                       \\centering\n",
    "                       \\footnotesize\n",
    "                       \"\"\".replace(' ', '')\n",
    "    table_env_end = r\"\"\"\\caption{caption:placeholder}\n",
    "                     \\label{fig:placeholder}\n",
    "                     \\end{table}\n",
    "                     \"\"\".replace(' ', '')\n",
    "    \n",
    "    return table_env_begin + tabular + table_env_end"
   ]
  },
  {
   "cell_type": "code",
   "execution_count": 12,
   "metadata": {
    "collapsed": false
   },
   "outputs": [],
   "source": [
    "def save_table(tex, filename, caption=None, folder=TABLES_FOLDER):\n",
    "    folder = os.path.expanduser(folder)\n",
    "    tex = tex.replace('fig:placeholder', 'fig:{}'.format(filename.split('.')[0]))\n",
    "    if caption is not None:\n",
    "        tex = tex.replace(CAPTION_PLACEHOLDER, caption)\n",
    "    with open(os.path.join(folder, filename), 'w') as f:\n",
    "        f.write(tex)"
   ]
  },
  {
   "cell_type": "markdown",
   "metadata": {},
   "source": [
    "### Load results"
   ]
  },
  {
   "cell_type": "code",
   "execution_count": null,
   "metadata": {
    "collapsed": true
   },
   "outputs": [],
   "source": [
    "from sklearn.metrics import accuracy_score\n",
    "\n",
    "result_files = glob(join(RESULTS_PATH, '*_*.json'))\n",
    "result_files = [x for x in result_files if os.path.basename(x).startswith(('anova', 'infogain', 'rfe', 'chi2', 'mrmr'))]\n",
    "\n",
    "results = []\n",
    "for f in result_files:\n",
    "    exp_id = f.split('_')[-1].rstrip('.json')\n",
    "    try:\n",
    "        d = json.load(open(join(RESULTS_PATH, f), 'r'))\n",
    "    except ValueError as e:\n",
    "        if os.path.getsize(f) == 0:\n",
    "            e = 'File size is 0. Removing.'\n",
    "            os.remove(f)\n",
    "        print('{} -> {}'.format(f, e))\n",
    "    base = {'exp_id': exp_id}\n",
    "    left = []\n",
    "    for k, v in d.items():\n",
    "        if k != 'experiments':\n",
    "            base[k] = v\n",
    "    if os.path.basename(f).startswith('mrmr'):\n",
    "        base['filter'] = 'mrmr'\n",
    "    elif os.path.basename(f).startswith('rfe'):\n",
    "        base['filter'] = 'rfe'\n",
    "    for exp in d['experiments']:\n",
    "        it = exp['iteration']\n",
    "        if 'subsets' not in exp:\n",
    "            print('{} -> Field \"subsets\" not found.'.format(f))\n",
    "            continue\n",
    "        for s in exp['subsets']:\n",
    "            train = accuracy_score(s['train']['y_true'], s['train']['y_pred'])\n",
    "            test = accuracy_score(s['test']['y_true'], s['test']['y_pred'])\n",
    "            if 'n_features' in s:\n",
    "                n_features = s['n_features']\n",
    "            else:\n",
    "                n_features = len(s['features'])   \n",
    "            results.append(dict(base, iteration=it, train=train, test=test, n_features=n_features))    \n",
    "\n",
    "df = pd.DataFrame(results)"
   ]
  },
  {
   "cell_type": "markdown",
   "metadata": {},
   "source": [
    "## Tables"
   ]
  },
  {
   "cell_type": "markdown",
   "metadata": {},
   "source": [
    "#### Some constants"
   ]
  },
  {
   "cell_type": "code",
   "execution_count": 13,
   "metadata": {
    "collapsed": true
   },
   "outputs": [],
   "source": [
    "MDD = 'mdd_raw37'\n",
    "EPI = 'epi_ad'\n",
    "AD = 'ad.disease.status'"
   ]
  },
  {
   "cell_type": "markdown",
   "metadata": {},
   "source": [
    "#### d1_vs_d2_mdd"
   ]
  },
  {
   "cell_type": "code",
   "execution_count": null,
   "metadata": {
    "collapsed": true
   },
   "outputs": [],
   "source": [
    "foo = df\n",
    "foo = foo[((foo.data == MDD)\n",
    "           & (foo.target == 'stress')\n",
    "           & (foo['filter'].isin(['infogain_10', 'infogain_exp'])))]\n",
    "foo = foo.groupby(['n_features', 'filter', 'clf']).agg({'test': [np.mean, np.std]})\n",
    "foo['Accuracy'] = mean_pm_std(foo['test']['mean'], foo['test']['std'])\n",
    "foo = foo['Accuracy'].unstack().unstack()\n",
    "foo_latex = foo.to_latex()\n",
    "foo_latex = process_latex(foo_latex, remove_lines=REMOVE_N_FEATURES)\n",
    "repl = [('clf', ['b', '2r', 'c']),\n",
    "        ('en', 'bc'),\n",
    "        ('svm', 'bc'),\n",
    "        ('l1 svm', 'bc'),\n",
    "        \n",
    "        ('IG1', 'bc'),\n",
    "        ('IG2', 'bc'),\n",
    "        ('pm', None)]\n",
    "foo_latex = batch_replace(foo_latex, repl)\n",
    "foo_latex = foo_latex.replace('filter', '')\n",
    "save_table(foo_latex, 'd1_vs_d2_mdd.tex')"
   ]
  },
  {
   "cell_type": "markdown",
   "metadata": {},
   "source": [
    "#### dis_anal_mdd_en"
   ]
  },
  {
   "cell_type": "code",
   "execution_count": null,
   "metadata": {
    "collapsed": true
   },
   "outputs": [],
   "source": [
    "foo = df\n",
    "def discretization_type(method):\n",
    "    if method in ['infogain_exp', 'chi2']:\n",
    "        return 'D2'\n",
    "    elif method in ['infogain_10', 'mrmr']:\n",
    "        return 'D1'\n",
    "    elif method in ['anova', 'rfe']:\n",
    "        return 'D0'\n",
    "    else:\n",
    "        raise ValueError\n",
    "vec_dis = np.vectorize(discretization_type)\n",
    "foo['disc'] = vec_dis(foo['filter'])\n",
    "foo = foo[((foo.data == MDD)\n",
    "           & (foo.target == 'stress'))]\n",
    "#            & (foo['filter'].isin(['infogain_10', 'infogain_exp'])))]\n",
    "foo = foo[df.clf == 'en']\n",
    "foo = foo.groupby(['n_features', 'filter', 'disc']).agg({'test': [np.mean, np.std]})\n",
    "foo['Accuracy'] = mean_pm_std(foo['test']['mean'], foo['test']['std'])\n",
    "foo = foo['Accuracy'].unstack().unstack()\n",
    "foo = foo.loc[[37231, 30000, 20000, 10000, 5000, 1000, 500, 100, 50, 10]]\n",
    "# foo = foo[['rfe', 'anova', 'mrmr', 'infogain_10', 'infogain_exp', 'chi2']]\n",
    "foo = foo.dropna(axis=1, how='all')\n",
    "\n",
    "foo_latex = foo.to_latex(na_rep=' ')\n",
    "foo_latex = process_latex(foo_latex, remove_lines=REMOVE_N_FEATURES)\n",
    "repl = [('clf', ['b', '2r', 'c']),\n",
    "        ('en', 'bc'),\n",
    "        ('svm', 'bc'),\n",
    "        ('l1 svm', 'bc'),\n",
    "        ('anova', 'bc'),\n",
    "        ('mrmr', 'bc'), \n",
    "        ('rfe', 'bc'),\n",
    "        ('IG1', 'bc'),\n",
    "        ('IG2', 'bc'),\n",
    "        ('chi2', 'bc'),\n",
    "        ('pm', None)]\n",
    "foo_latex = batch_replace(foo_latex, repl)\n",
    "foo_latex = my_replace(foo_latex, src='disc', dst=r'\\# Feat', effects=['b', '2r', 'c'])\n",
    "for d in [' D0 ', ' D1 ', ' D2 ']:\n",
    "    foo_latex = my_replace(foo_latex, src=d, dst=d, effects='bc')\n",
    "foo_latex = foo_latex.replace('filter', '')`\n",
    "foo_latex = add_clines(foo_latex, [(1, 2, 3), (1, 4, 5), (1, 6, 7)])\n",
    "save_table(foo_latex, 'dis_anal_mdd_en.tex')"
   ]
  },
  {
   "cell_type": "markdown",
   "metadata": {},
   "source": [
    "#### dis_anal_mdd_svm"
   ]
  },
  {
   "cell_type": "code",
   "execution_count": null,
   "metadata": {
    "collapsed": true
   },
   "outputs": [],
   "source": [
    "foo = df\n",
    "def discretization_type(method):\n",
    "    if method in ['infogain_exp', 'chi2']:\n",
    "        return 'D2'\n",
    "    elif method in ['infogain_10', 'mrmr']:\n",
    "        return 'D1'\n",
    "    elif method in ['anova', 'rfe']:\n",
    "        return 'D0'\n",
    "    else:\n",
    "        raise ValueError\n",
    "vec_dis = np.vectorize(discretization_type)\n",
    "foo['disc'] = vec_dis(foo['filter'])\n",
    "foo = foo[((foo.data == MDD)\n",
    "           & (foo.target == 'stress'))]\n",
    "#            & (foo['filter'].isin(['infogain_10', 'infogain_exp'])))]\n",
    "foo = foo[df.clf.isin(['svm_linear_kernel'])]\n",
    "foo = foo.groupby(['n_features', 'filter', 'disc']).agg({'test': [np.mean, np.std]})\n",
    "foo['Accuracy'] = mean_pm_std(foo['test']['mean'], foo['test']['std'])\n",
    "foo = foo['Accuracy'].unstack().unstack()\n",
    "foo = foo.loc[[37231, 30000, 20000, 10000, 5000, 1000, 500, 100, 50, 10]]\n",
    "# foo = foo[['rfe', 'anova', 'mrmr', 'infogain_10', 'infogain_exp', 'chi2']]\n",
    "foo = foo.dropna(axis=1, how='all')\n",
    "foo_latex = foo.to_latex(na_rep=' ')\n",
    "foo_latex = process_latex(foo_latex, remove_lines=REMOVE_N_FEATURES)\n",
    "repl = [('clf', ['b', '2r', 'c']),\n",
    "        ('en', 'bc'),\n",
    "        ('svm', 'bc'),\n",
    "        ('l1 svm', 'bc'),\n",
    "        ('anova', 'bc'),\n",
    "        ('mrmr', 'bc'), \n",
    "        ('rfe', 'bc'),\n",
    "        ('IG1', 'bc'),\n",
    "        ('IG2', 'bc'),\n",
    "        ('chi2', 'bc'),\n",
    "        ('pm', None)]\n",
    "foo_latex = foo_latex.replace('clf', '')\n",
    "foo_latex = batch_replace(foo_latex, repl)\n",
    "foo_latex = my_replace(foo_latex, src='disc', dst=r'\\# Feat', effects=['b', '2r', 'c'])\n",
    "for d in [' D0 ', ' D1 ', ' D2 ']:\n",
    "    foo_latex = my_replace(foo_latex, src=d, dst=d, effects='bc')\n",
    "foo_latex = foo_latex.replace('filter', '')\n",
    "foo_latex = add_clines(foo_latex, [(1, 2, 3), (1, 4, 5), (1, 6, 7)])\n",
    "save_table(foo_latex, 'dis_anal_mdd_svm.tex')"
   ]
  },
  {
   "cell_type": "markdown",
   "metadata": {},
   "source": [
    "#### dis_anal_mdd_svm_l1"
   ]
  },
  {
   "cell_type": "code",
   "execution_count": null,
   "metadata": {
    "collapsed": true
   },
   "outputs": [],
   "source": [
    "foo = df\n",
    "def discretization_type(method):\n",
    "    if method in ['infogain_exp', 'chi2']:\n",
    "        return 'D2'\n",
    "    elif method in ['infogain_10', 'mrmr']:\n",
    "        return 'D1'\n",
    "    elif method in ['anova', 'rfe']:\n",
    "        return 'D0'\n",
    "    else:\n",
    "        raise ValueError\n",
    "vec_dis = np.vectorize(discretization_type)\n",
    "foo['disc'] = vec_dis(foo['filter'])\n",
    "foo = foo[((foo.data == MDD)\n",
    "           & (foo.target == 'stress'))]\n",
    "#            & (foo['filter'].isin(['infogain_10', 'infogain_exp'])))]\n",
    "foo = foo[df.clf.isin(['svm_linear_l1'])]\n",
    "foo = foo.groupby(['n_features', 'filter', 'disc']).agg({'test': [np.mean, np.std]})\n",
    "foo['Accuracy'] = mean_pm_std(foo['test']['mean'], foo['test']['std'])\n",
    "foo = foo['Accuracy'].unstack().unstack()\n",
    "foo = foo.loc[[37231, 30000, 20000, 10000, 5000, 1000, 500, 100, 50, 10]]\n",
    "# foo = foo[['rfe', 'anova', 'mrmr', 'infogain_10', 'infogain_exp', 'chi2']]\n",
    "foo = foo.dropna(axis=1, how='all')\n",
    "foo_latex = foo.to_latex(na_rep=' ')\n",
    "foo_latex = process_latex(foo_latex, remove_lines=REMOVE_N_FEATURES)\n",
    "repl = [('clf', ['b', '2r', 'c']),\n",
    "        ('en', 'bc'),\n",
    "        ('svm', 'bc'),\n",
    "        ('l1 svm', 'bc'),\n",
    "        ('anova', 'bc'),\n",
    "        ('mrmr', 'bc'), \n",
    "        ('rfe', 'bc'),\n",
    "        ('IG1', 'bc'),\n",
    "        ('IG2', 'bc'),\n",
    "        ('chi2', 'bc'),\n",
    "        ('pm', None)]\n",
    "foo_latex = foo_latex.replace('clf', '')\n",
    "foo_latex = batch_replace(foo_latex, repl)\n",
    "foo_latex = my_replace(foo_latex, src='disc', dst=r'\\# Feat', effects=['b', '2r', 'c'])\n",
    "for d in [' D0 ', ' D1 ', ' D2 ']:\n",
    "    foo_latex = my_replace(foo_latex, src=d, dst=d, effects='bc')\n",
    "foo_latex = foo_latex.replace('filter', '')\n",
    "foo_latex = add_clines(foo_latex, [(1, 2, 3), (1, 4, 5), (1, 6, 7)])\n",
    "save_table(foo_latex, 'dis_anal_mdd_svm_l1.tex')"
   ]
  },
  {
   "cell_type": "markdown",
   "metadata": {},
   "source": [
    "#### mdd_drug_discard"
   ]
  },
  {
   "cell_type": "code",
   "execution_count": null,
   "metadata": {
    "collapsed": true
   },
   "outputs": [],
   "source": [
    "foo = df\n",
    "foo = foo[((foo.data == MDD) \n",
    "           & (df.target == 'drug'))]\n",
    "foo = foo.groupby(['n_features', 'filter', 'clf'], squeeze=True).agg({'test': [np.mean, np.std, len]})\n",
    "foo['Accuracy'] = mean_pm_std(foo['test']['mean'], foo['test']['std'])\n",
    "foo = foo['Accuracy'].unstack().unstack()\n",
    "foo = foo[foo.index.isin([37231, 30000, 10000, 1000, 100, 10])]\n",
    "foo = foo.iloc[::-1]\n",
    "foo = foo[[('en', 'infogain_exp'), ('svm_linear_kernel', 'infogain_10'), ('svm_linear_l1', 'anova')]]\n",
    "foo_latex = foo.to_latex()\n",
    "foo_latex = process_latex(foo_latex, remove_lines=REMOVE_N_FEATURES)\n",
    "repl = [('clf', ['b', '2r', 'c']),\n",
    "        ('en', 'bc'),\n",
    "        ('svm', 'bc'),\n",
    "        ('l1 svm', 'bc'),\n",
    "        ('IG1', 'bc'),\n",
    "        ('IG2', 'bc'),\n",
    "        ('anova', 'bc'),\n",
    "        ('pm', None)]\n",
    "foo_latex = batch_replace(foo_latex, repl)\n",
    "foo_latex = foo_latex.replace('filter', '')\n",
    "save_table(foo_latex, 'mdd_drug_discard.tex')"
   ]
  },
  {
   "cell_type": "markdown",
   "metadata": {},
   "source": [
    "#### comparing_tissues"
   ]
  },
  {
   "cell_type": "code",
   "execution_count": null,
   "metadata": {
    "collapsed": true
   },
   "outputs": [],
   "source": [
    "foo = df\n",
    "# foo = foo.query(\"data == 'epi_ad' & target == 'ad.disease.status'\")\n",
    "foo = foo[((foo.data == EPI) & (foo.target == AD))]\n",
    "foo = foo.query(GOOD_CLF_FILTER)\n",
    "foo = foo[foo.n_features.isin([485577, 200000, 100000, 50000, 10000, 5000, 1000, 500, 100, 10])]\n",
    "foo = foo.groupby(['tissue', 'n_features', 'clf', 'filter']).agg({'test': [np.mean, np.std, len]})\n",
    "foo['Accuracy'] = mean_pm_std(foo['test']['mean'], foo['test']['std'])\n",
    "foo['len'] = foo[('test', 'len')]\n",
    "foo = foo['Accuracy'].unstack('tissue').unstack('clf').unstack('filter')\n",
    "foo = foo.dropna(axis=1, how='all')\n",
    "foo = foo.iloc[::-1]\n",
    "foo = foo[[(CER, 'en', 'infogain_exp'),\n",
    "           (EC, 'en', 'chi2'),\n",
    "           (FC, KER_SVM, 'infogain_10'), (STG, 'en', 'chi2'), (WB, 'en', 'chi2')]]\n",
    "# foo = foo.drop(['cerebellum', EC, STG], axis=1)\n",
    "\n",
    "foo_latex = foo.to_latex(na_rep=' ')\n",
    "foo_latex = process_latex(foo_latex, remove_lines=REMOVE_N_FEATURES)\n",
    "repl = [('clf', ['b', '2r', 'c']),\n",
    "        ('en', 'bc'),\n",
    "        ('svm', 'bc'),\n",
    "        ('l1 svm', 'bc'),\n",
    "        ('anova', 'bc'),\n",
    "        ('mrmr', 'bc'), \n",
    "        ('rfe', 'bc'),\n",
    "        ('IG1', 'bc'),\n",
    "        ('IG2', 'bc'),\n",
    "        ('chi2', 'bc'), ('cer', 'bc'), ('ec', 'bc'), ('fc', 'bc'), ('stg', 'bc'), ('wb', 'bc'),\n",
    "        ('pm', None)]\n",
    "foo_latex = foo_latex.replace('clf', '')\n",
    "foo_latex = foo_latex.replace('filter', '')\n",
    "foo_latex = my_replace(foo_latex, src='tissue', dst=r'\\# Feat', effects=['b', '3r', 'c'])\n",
    "foo_latex = batch_replace(foo_latex, repl)\n",
    "save_table(foo_latex, 'comparing_tissues.tex')"
   ]
  },
  {
   "cell_type": "markdown",
   "metadata": {},
   "source": [
    "#### mdd_rfe"
   ]
  },
  {
   "cell_type": "code",
   "execution_count": null,
   "metadata": {
    "collapsed": true
   },
   "outputs": [],
   "source": [
    "foo = df\n",
    "foo = foo[(foo.data == MDD) & (foo.target == 'stress') & (foo['filter'] == 'rfe')]\n",
    "# foo = foo[((foo.data == MDD) \n",
    "#            & (foo.target == 'drug'))]\n",
    "#            & (foo['filter'] == 'rfe'))]\n",
    "foo = foo.groupby(['n_features', 'clf']).agg({'test': [np.mean, np.std, len]})\n",
    "foo['Accuracy'] = mean_pm_std(foo['test']['mean'], foo['test']['std'])\n",
    "foo = foo['Accuracy'].unstack('clf')\n",
    "foo = foo[foo.index.isin([37231, 30000, 10000, 1000, 100, 10])]\n",
    "foo = foo.iloc[::-1]\n",
    "foo = foo.drop('svm_linear', axis=1)\n",
    "# foo = foo[[('en', 'infogain_exp'), ('svm_linear_kernel', 'infogain_10'), ('svm_linear_l1', 'anova')]]\n",
    "foo_latex = foo.to_latex()\n",
    "foo_latex = process_latex(foo_latex, remove_lines=REMOVE_N_FEATURES)\n",
    "repl = [('clf', ['b', 'c']),\n",
    "        ('en', 'bc'),\n",
    "        ('svm', 'bc'),\n",
    "        ('l1 svm', 'bc'),\n",
    "        ('IG1', 'bc'),\n",
    "        ('IG2', 'bc'),\n",
    "        ('anova', 'bc'),\n",
    "        ('pm', None)]\n",
    "foo_latex = batch_replace(foo_latex, repl)\n",
    "save_table(foo_latex, 'mdd_rfe.tex')"
   ]
  },
  {
   "cell_type": "markdown",
   "metadata": {},
   "source": [
    "#### ad_rfe"
   ]
  },
  {
   "cell_type": "code",
   "execution_count": null,
   "metadata": {
    "collapsed": true
   },
   "outputs": [],
   "source": [
    "foo = df\n",
    "foo = foo[(foo.data == EPI) & (foo['filter'] == 'rfe')]\n",
    "# foo = foo[((foo.data == MDD) \n",
    "#            & (foo.target == 'drug'))]\n",
    "#            & (foo['filter'] == 'rfe'))]\n",
    "foo = foo.groupby(['n_features', 'clf', 'tissue']).agg({'test': [np.mean, np.std, len]})\n",
    "foo['Accuracy'] = mean_pm_std(foo['test']['mean'], foo['test']['std'])\n",
    "foo = foo['Accuracy'].unstack('tissue').unstack('clf')\n",
    "foo = foo[foo.index.isin([485577, 200000, 100000, 50000, 10000, 5000, 1000, 500, 100, 10])]\n",
    "foo = foo.iloc[::-1]\n",
    "foo = foo.dropna(axis=1, how='all')\n",
    "foo = foo.drop([(CER, KER_SVM), (CER, LIN_SVM), (FC, LIN_SVM), FC, (STG, KER_SVM), (STG, L1_SVM), WB, EC], axis=1)\n",
    "# foo = foo[[('en', 'infogain_exp'), ('svm_linear_kernel', 'infogain_10'), ('svm_linear_l1', 'anova')]]\n",
    "foo_latex = foo.to_latex()\n",
    "foo_latex = process_latex(foo_latex, remove_lines=REMOVE_N_FEATURES)\n",
    "repl = [('clf', ['b', 'c']),\n",
    "        ('en', 'bc'),\n",
    "        ('svm', 'bc'),\n",
    "        ('svm k', 'bc'),\n",
    "        ('l1 svm', 'bc'),\n",
    "        ('IG1', 'bc'),\n",
    "        ('IG2', 'bc'),\n",
    "        ('anova', 'bc'),\n",
    "        ('chi2', 'bc'), ('cer', 'bc'), ('ec', 'bc'), ('fc', 'bc'), ('stg', 'bc'), ('wb', 'bc'),\n",
    "        ('pm', None)]\n",
    "foo_latex = foo_latex.replace('clf', '')\n",
    "foo_latex = my_replace(foo_latex, src='tissue', dst=r'\\# Feat', effects=['b', '2r', 'c'])\n",
    "foo_latex = batch_replace(foo_latex, repl)\n",
    "\n",
    "save_table(foo_latex, 'ad_rfe.tex')"
   ]
  },
  {
   "cell_type": "markdown",
   "metadata": {},
   "source": [
    "#### mdd_robust"
   ]
  },
  {
   "cell_type": "code",
   "execution_count": null,
   "metadata": {
    "collapsed": true
   },
   "outputs": [],
   "source": [
    "def format_jaccard(jaccard):\n",
    "    return '{:0.2f}'.format(jaccard)\n",
    "format_jaccard = np.vectorize(format_jaccard)\n",
    "\n",
    "df = pd.DataFrame(foo)\n",
    "df['jaccard'] = format_jaccard(df['jaccard'])\n",
    "# df = df.groupby(['filter', 'size'])\n",
    "df = df.drop('clf', axis=1)\n",
    "# df = df.groupby(['filter'])\n",
    "# df = df.unstack('filter')\n",
    "df = df.set_index(['filter', 'size']).unstack('filter')\n",
    "df = df.swaplevel(0, 1, axis=1)\n",
    "df = df[[('anova', 'inter'), ('anova', 'union'), ('anova', 'jaccard'),\n",
    "         ('mrmr', 'inter'), ('mrmr', 'union'), ('mrmr', 'jaccard'),\n",
    "         ('infogain_10', 'inter'), ('infogain_10', 'union'), ('infogain_10', 'jaccard')]]\n",
    "df = df.iloc[::-1]\n",
    "foo_latex = df.to_latex(na_rep=' ')\n",
    "foo_latex = process_latex(foo_latex, remove_lines=r'^size*')\n",
    "repl = [('clf', ['b', 'c']),\n",
    "        ('en', 'bc'),\n",
    "        ('svm', 'bc'),\n",
    "        ('l1 svm', 'bc'),\n",
    "        ('IG1', 'bc'),\n",
    "        ('IG2', 'bc'),\n",
    "        ('anova', 'bc'), ('mrmr', 'bc'),\n",
    "        ('pm', None)]\n",
    "foo_latex = batch_replace(foo_latex, repl)\n",
    "foo_latex = my_replace(foo_latex, src='filter', dst='\\# Feat', effects=['b', '2r', 'c'])\n",
    "foo_latex = my_replace(foo_latex, src='inter', dst=r'$\\bm{\\cap}$', effects='c')\n",
    "foo_latex = my_replace(foo_latex, src='union', dst=r'$\\bm{\\cup}$', effects='c')\n",
    "foo_latex = my_replace(foo_latex, src='jaccard', dst=r'$\\bm{J}$', effects='c')\n",
    "foo_latex = add_clines(foo_latex, [(1, 2, 4), (1, 5, 7), (1, 8, 10)])\n",
    "save_table(foo_latex, 'mdd_robust.tex')"
   ]
  }
 ],
 "metadata": {
  "kernelspec": {
   "display_name": "Python 2",
   "language": "python",
   "name": "python2"
  },
  "language_info": {
   "codemirror_mode": {
    "name": "ipython",
    "version": 2
   },
   "file_extension": ".py",
   "mimetype": "text/x-python",
   "name": "python",
   "nbconvert_exporter": "python",
   "pygments_lexer": "ipython2",
   "version": "2.7.10"
  }
 },
 "nbformat": 4,
 "nbformat_minor": 0
}
