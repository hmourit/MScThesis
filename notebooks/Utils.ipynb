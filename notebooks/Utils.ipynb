{
 "cells": [
  {
   "cell_type": "markdown",
   "metadata": {},
   "source": [
    "## Schemas"
   ]
  },
  {
   "cell_type": "code",
   "execution_count": null,
   "metadata": {
    "collapsed": true
   },
   "outputs": [],
   "source": [
    "schemas = {}\n",
    "file_schemas = {}\n",
    "for f in result_files:\n",
    "    basename = os.path.basename(f)\n",
    "    kind = basename.split('_')[0]\n",
    "    print(basename, end=' ')\n",
    "    sys.stdout.flush()\n",
    "    try:\n",
    "        doc = json.load(open(f, 'r'))\n",
    "    except ValueError as e:\n",
    "        print('-> ', end='')\n",
    "        print(e)\n",
    "        sys.stdout.flush()\n",
    "        continue\n",
    "    fields = extract_json_fields(doc)\n",
    "    i = 0\n",
    "    assigned = False\n",
    "    while not assigned:\n",
    "        schema = '{}_{:02d}'.format(kind, i)\n",
    "        if schema in schemas:\n",
    "            if fields == schemas[schema]:\n",
    "                file_schemas[basename] = schema\n",
    "                assigned = True\n",
    "                print('->' + schema)\n",
    "            else:\n",
    "                i += 1\n",
    "        else:\n",
    "            schemas[schema] = fields\n",
    "            file_schemas[basename] = schema\n",
    "            assigned = True\n",
    "            print(' -> ' + schema)\n",
    "            sys.stdout.flush()"
   ]
  },
  {
   "cell_type": "code",
   "execution_count": null,
   "metadata": {
    "collapsed": true
   },
   "outputs": [],
   "source": []
  }
 ],
 "metadata": {
  "kernelspec": {
   "display_name": "Python 2",
   "language": "python",
   "name": "python2"
  },
  "language_info": {
   "codemirror_mode": {
    "name": "ipython",
    "version": 2
   },
   "file_extension": ".py",
   "mimetype": "text/x-python",
   "name": "python",
   "nbconvert_exporter": "python",
   "pygments_lexer": "ipython2",
   "version": "2.7.10"
  }
 },
 "nbformat": 4,
 "nbformat_minor": 0
}
