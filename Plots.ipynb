{
 "cells": [
  {
   "cell_type": "code",
   "execution_count": 4,
   "metadata": {
    "collapsed": true
   },
   "outputs": [],
   "source": [
    "from __future__ import division, print_function"
   ]
  },
  {
   "cell_type": "code",
   "execution_count": 5,
   "metadata": {
    "collapsed": true
   },
   "outputs": [],
   "source": [
    "import matplotlib.pyplot as plt\n",
    "import numpy as np\n",
    "import pandas as pd\n",
    "%matplotlib inline\n",
    "import os\n",
    "import json\n",
    "from pprint import pprint\n",
    "from results import read_results, flatten_json"
   ]
  },
  {
   "cell_type": "code",
   "execution_count": 81,
   "metadata": {
    "collapsed": false
   },
   "outputs": [
    {
     "data": {
      "text/plain": [
       "'/Users/hmourit/Documents/0project/MScThesis'"
      ]
     },
     "execution_count": 81,
     "metadata": {},
     "output_type": "execute_result"
    }
   ],
   "source": [
    "# os.chdir('./0project/MScThesis/')\n",
    "results_path = '../bucket/results/'\n",
    "results_files = os.path.join(results_path, 'result_*.json')\n",
    "\n",
    "graphs_path = '../'\n",
    "os.getcwd()"
   ]
  },
  {
   "cell_type": "code",
   "execution_count": null,
   "metadata": {
    "collapsed": false
   },
   "outputs": [],
   "source": [
    "results = json.load(open('./results/results.json', 'r'))\n",
    "results = pd.io.json.json_normalize(results)\n",
    "results['target'] = results.target.fillna('drug')\n",
    "results"
   ]
  },
  {
   "cell_type": "code",
   "execution_count": null,
   "metadata": {
    "collapsed": false
   },
   "outputs": [],
   "source": [
    "temp = results[results['split.test_size'] == 0.1][results['classifier'] == 'EN']\n",
    "temp = temp[['split.n_iter', 'cross_val.n_folds', 'results.accuracy.mean', 'results.accuracy.std', 'target']]\n",
    "temp[temp['target'] == 'drug']"
   ]
  },
  {
   "cell_type": "code",
   "execution_count": null,
   "metadata": {
    "collapsed": false
   },
   "outputs": [],
   "source": [
    "temp = results[results['classifier'] == 'SVC']\n",
    "temp = temp[['split.test_size', 'split.n_iter', 'cross_val.n_folds', 'results.accuracy.mean', 'results.accuracy.std', 'target']]\n",
    "temp[temp['target'] == 'drug']"
   ]
  },
  {
   "cell_type": "code",
   "execution_count": null,
   "metadata": {
    "collapsed": true
   },
   "outputs": [],
   "source": [
    "# keys = ['classifier', 'cross_val.n_folds', 'split.test_size', 'target']\n",
    "keys = ['classifier', 'target']"
   ]
  },
  {
   "cell_type": "code",
   "execution_count": null,
   "metadata": {
    "collapsed": false
   },
   "outputs": [],
   "source": [
    "# def combine_means_and_stds(results, keys):\n",
    "results['n*mu'] = results['split.n_iter'] * results['results.accuracy.mean']\n",
    "results['ns2m2'] = results['split.n_iter'] * \\\n",
    "    (results['results.accuracy.std']**2 + results['results.accuracy.mean']**2)\n",
    "aggregated = results.groupby(keys).agg(np.sum)\n",
    "aggregated['mean'] = aggregated['n*mu'] / aggregated['split.n_iter']\n",
    "aggregated['variance'] = (aggregated['ns2m2'] - aggregated['mean']**2 * aggregated['split.n_iter']) / aggregated['split.n_iter']\n",
    "aggregated['std'] = np.sqrt(aggregated['variance'])\n",
    "aggregated[['split.n_iter', 'mean', 'std']]"
   ]
  },
  {
   "cell_type": "code",
   "execution_count": null,
   "metadata": {
    "collapsed": false
   },
   "outputs": [],
   "source": [
    "pprint(aggregated[['split.n_iter', 'mean', 'std']].to_json())"
   ]
  },
  {
   "cell_type": "code",
   "execution_count": null,
   "metadata": {
    "collapsed": true
   },
   "outputs": [],
   "source": []
  },
  {
   "cell_type": "code",
   "execution_count": null,
   "metadata": {
    "collapsed": false
   },
   "outputs": [],
   "source": [
    "combine_means_and_stds(results, keys)"
   ]
  },
  {
   "cell_type": "code",
   "execution_count": null,
   "metadata": {
    "collapsed": false
   },
   "outputs": [],
   "source": [
    "aggregated = grouped.agg(np.sum)\n",
    "aggregated"
   ]
  },
  {
   "cell_type": "code",
   "execution_count": null,
   "metadata": {
    "collapsed": false
   },
   "outputs": [],
   "source": [
    "aggregated['new_mu'] = aggregated['n*mu'] / aggregated['split.n_iter']\n",
    "aggregated"
   ]
  },
  {
   "cell_type": "code",
   "execution_count": null,
   "metadata": {
    "collapsed": false
   },
   "outputs": [],
   "source": [
    "results.join(aggregated['new_mu'], on=['classifier', 'cross_val.n_folds', 'split.test_size', 'target'])"
   ]
  },
  {
   "cell_type": "code",
   "execution_count": null,
   "metadata": {
    "collapsed": false
   },
   "outputs": [],
   "source": [
    "foo = np.random.normal(0.414286, 0.162255, (10,))\n",
    "print(foo.mean(), foo.std())\n",
    "foo2 = (foo - foo.mean()) / foo.std()\n",
    "print(foo2.mean(), foo2.std())\n",
    "foo3 = (foo2 * 0.162255) + 0.414286\n",
    "print(foo3.mean(), foo3.std())"
   ]
  },
  {
   "cell_type": "code",
   "execution_count": null,
   "metadata": {
    "collapsed": true
   },
   "outputs": [],
   "source": [
    "def fake_scores(n, mu, std):\n",
    "    fake = np.random.normal(mu, std, (n,))\n",
    "    fake = (fake - fake.mean()) / fake.std()\n",
    "    fake = fake * std + mu\n",
    "    return fake"
   ]
  },
  {
   "cell_type": "code",
   "execution_count": null,
   "metadata": {
    "collapsed": false
   },
   "outputs": [],
   "source": [
    "# results = json.load(open(os.path.join(results_path, 'results.json'), 'r'))\n",
    "# for result in results:\n",
    "#     experiment_id = hash(json.dumps(result))\n",
    "#     result['experiment_id'] = experiment_id\n",
    "#     result['data'] = 'mdd_transcriptomics'\n",
    "#     if 'target' not in result:\n",
    "#         result['target'] = 'drug'\n",
    "#     n = result['split']['n_iter']\n",
    "#     mu = result['results']['accuracy']['mean']\n",
    "#     std = result['results']['accuracy']['std']\n",
    "#     result['results']['accuracy']['scores'] = fake_scores(n, mu, std).tolist()\n",
    "#     with open(os.path.join(results_path, 'result_{}.json'.format(experiment_id)), 'w') as out:\n",
    "#         json.dump(result, out, sort_keys=True, indent=2, separators=(',', ': '))"
   ]
  },
  {
   "cell_type": "code",
   "execution_count": null,
   "metadata": {
    "collapsed": false
   },
   "outputs": [],
   "source": [
    "# file_ = os.path.join(results_path, 'results_new.json')\n",
    "# experiments = {}\n",
    "# results = json.load(open(file_, 'r'))\n",
    "# for result in results:\n",
    "#     if result['experiment_id'] not in experiments:\n",
    "#         experiments[result['experiment_id']] = result\n",
    "#         result['results'] = {'accuracy': {'scores': []}}\n",
    "#     experiments[result['experiment_id']]['resultbs']['accuracy']['scores'].append(result['accuracy'])\n",
    "\n",
    "# for experiment in experiments.values():\n",
    "#     experiment['results']['accuracy']['mean'] = np.mean(experiment['results']['accuracy']['scores'])\n",
    "#     experiment['results']['accuracy']['std'] = np.std(experiment['results']['accuracy']['scores'])\n",
    "#     del experiment['accuracy']\n",
    "#     if 'data' not in experiment:\n",
    "#         experiment['data'] = 'mdd_transcriptomics'\n",
    "#     with open(os.path.join(results_path, 'result_{}.json'.format(experiment['experiment_id'])), 'w') as out:\n",
    "#         json.dump(experiment, out, sort_keys=True, indent=2, separators=(',', ': '))"
   ]
  },
  {
   "cell_type": "code",
   "execution_count": 91,
   "metadata": {
    "collapsed": false
   },
   "outputs": [
    {
     "data": {
      "text/html": [
       "<div>\n",
       "<table border=\"1\" class=\"dataframe\">\n",
       "  <thead>\n",
       "    <tr style=\"text-align: right;\">\n",
       "      <th></th>\n",
       "      <th>cross_val.n_folds</th>\n",
       "      <th>experiment_id</th>\n",
       "      <th>pca.n_components</th>\n",
       "      <th>results.accuracy.mean</th>\n",
       "      <th>results.accuracy.scores</th>\n",
       "      <th>results.accuracy.std</th>\n",
       "      <th>split.n_iter</th>\n",
       "      <th>split.test_size</th>\n",
       "    </tr>\n",
       "  </thead>\n",
       "  <tbody>\n",
       "    <tr>\n",
       "      <th>count</th>\n",
       "      <td>20954.000000</td>\n",
       "      <td>2.095400e+04</td>\n",
       "      <td>20674.000000</td>\n",
       "      <td>20954.000000</td>\n",
       "      <td>20954.000000</td>\n",
       "      <td>20954.000000</td>\n",
       "      <td>20954.000000</td>\n",
       "      <td>20954.000000</td>\n",
       "    </tr>\n",
       "    <tr>\n",
       "      <th>mean</th>\n",
       "      <td>10.013935</td>\n",
       "      <td>-2.838904e+16</td>\n",
       "      <td>47.599158</td>\n",
       "      <td>0.701694</td>\n",
       "      <td>0.701694</td>\n",
       "      <td>0.104120</td>\n",
       "      <td>65.457860</td>\n",
       "      <td>0.100573</td>\n",
       "    </tr>\n",
       "    <tr>\n",
       "      <th>std</th>\n",
       "      <td>0.382149</td>\n",
       "      <td>5.281971e+18</td>\n",
       "      <td>29.440765</td>\n",
       "      <td>0.157107</td>\n",
       "      <td>0.189080</td>\n",
       "      <td>0.015075</td>\n",
       "      <td>34.373837</td>\n",
       "      <td>0.010687</td>\n",
       "    </tr>\n",
       "    <tr>\n",
       "      <th>min</th>\n",
       "      <td>2.000000</td>\n",
       "      <td>-9.202101e+18</td>\n",
       "      <td>1.000000</td>\n",
       "      <td>0.160000</td>\n",
       "      <td>0.000000</td>\n",
       "      <td>0.000000</td>\n",
       "      <td>1.000000</td>\n",
       "      <td>0.100000</td>\n",
       "    </tr>\n",
       "    <tr>\n",
       "      <th>25%</th>\n",
       "      <td>10.000000</td>\n",
       "      <td>-4.543301e+18</td>\n",
       "      <td>21.000000</td>\n",
       "      <td>0.654667</td>\n",
       "      <td>0.600000</td>\n",
       "      <td>0.095868</td>\n",
       "      <td>30.000000</td>\n",
       "      <td>0.100000</td>\n",
       "    </tr>\n",
       "    <tr>\n",
       "      <th>50%</th>\n",
       "      <td>10.000000</td>\n",
       "      <td>-5.733622e+17</td>\n",
       "      <td>46.000000</td>\n",
       "      <td>0.780741</td>\n",
       "      <td>0.733333</td>\n",
       "      <td>0.103064</td>\n",
       "      <td>45.000000</td>\n",
       "      <td>0.100000</td>\n",
       "    </tr>\n",
       "    <tr>\n",
       "      <th>75%</th>\n",
       "      <td>10.000000</td>\n",
       "      <td>4.621975e+18</td>\n",
       "      <td>73.000000</td>\n",
       "      <td>0.793333</td>\n",
       "      <td>0.866667</td>\n",
       "      <td>0.114026</td>\n",
       "      <td>100.000000</td>\n",
       "      <td>0.100000</td>\n",
       "    </tr>\n",
       "    <tr>\n",
       "      <th>max</th>\n",
       "      <td>20.000000</td>\n",
       "      <td>9.216049e+18</td>\n",
       "      <td>100.000000</td>\n",
       "      <td>0.913333</td>\n",
       "      <td>1.062965</td>\n",
       "      <td>0.183908</td>\n",
       "      <td>100.000000</td>\n",
       "      <td>0.300000</td>\n",
       "    </tr>\n",
       "  </tbody>\n",
       "</table>\n",
       "</div>"
      ],
      "text/plain": [
       "       cross_val.n_folds  experiment_id  pca.n_components  \\\n",
       "count       20954.000000   2.095400e+04      20674.000000   \n",
       "mean           10.013935  -2.838904e+16         47.599158   \n",
       "std             0.382149   5.281971e+18         29.440765   \n",
       "min             2.000000  -9.202101e+18          1.000000   \n",
       "25%            10.000000  -4.543301e+18         21.000000   \n",
       "50%            10.000000  -5.733622e+17         46.000000   \n",
       "75%            10.000000   4.621975e+18         73.000000   \n",
       "max            20.000000   9.216049e+18        100.000000   \n",
       "\n",
       "       results.accuracy.mean  results.accuracy.scores  results.accuracy.std  \\\n",
       "count           20954.000000             20954.000000          20954.000000   \n",
       "mean                0.701694                 0.701694              0.104120   \n",
       "std                 0.157107                 0.189080              0.015075   \n",
       "min                 0.160000                 0.000000              0.000000   \n",
       "25%                 0.654667                 0.600000              0.095868   \n",
       "50%                 0.780741                 0.733333              0.103064   \n",
       "75%                 0.793333                 0.866667              0.114026   \n",
       "max                 0.913333                 1.062965              0.183908   \n",
       "\n",
       "       split.n_iter  split.test_size  \n",
       "count  20954.000000     20954.000000  \n",
       "mean      65.457860         0.100573  \n",
       "std       34.373837         0.010687  \n",
       "min        1.000000         0.100000  \n",
       "25%       30.000000         0.100000  \n",
       "50%       45.000000         0.100000  \n",
       "75%      100.000000         0.100000  \n",
       "max      100.000000         0.300000  "
      ]
     },
     "execution_count": 91,
     "metadata": {},
     "output_type": "execute_result"
    }
   ],
   "source": [
    "results = read_results(results_files, record_path='results.accuracy.scores')\n",
    "results.describe()"
   ]
  },
  {
   "cell_type": "code",
   "execution_count": 94,
   "metadata": {
    "collapsed": false
   },
   "outputs": [
    {
     "data": {
      "image/png": "[encoded data removed]",
      "text/plain": [
       "<matplotlib.figure.Figure at 0x109f641d0>"
      ]
     },
     "metadata": {},
     "output_type": "display_data"
    }
   ],
   "source": [
    "group_keys = ['classifier', 'target', 'pca.n_components']\n",
    "results['classifier'] = results['classifier'].replace('SVC', 'svm')\n",
    "summary = results.groupby(group_keys).agg({'results.accuracy.scores': [len, np.mean, np.std]})\n",
    "summary = summary.loc[('logit', 'stress'), ('results.accuracy.scores')]\n",
    "summary['mean'].plot(yerr=summary['std'])\n",
    "plt.title('Logistic regression after PCA for stress')\n",
    "plt.xlabel('# of PCA components')\n",
    "plt.ylabel('Accuracy')\n",
    "plt.savefig(os.path.join(graphs_path, 'accu_vs_pca_components.eps'))"
   ]
  },
  {
   "cell_type": "code",
   "execution_count": null,
   "metadata": {
    "collapsed": true
   },
   "outputs": [],
   "source": []
  }
 ],
 "metadata": {
  "kernelspec": {
   "display_name": "Python 2",
   "language": "python",
   "name": "python2"
  },
  "language_info": {
   "codemirror_mode": {
    "name": "ipython",
    "version": 2
   },
   "file_extension": ".py",
   "mimetype": "text/x-python",
   "name": "python",
   "nbconvert_exporter": "python",
   "pygments_lexer": "ipython2",
   "version": "2.7.10"
  }
 },
 "nbformat": 4,
 "nbformat_minor": 0
}
