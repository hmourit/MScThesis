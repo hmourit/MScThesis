{
 "cells": [
  {
   "cell_type": "code",
   "execution_count": 22,
   "metadata": {
    "collapsed": true
   },
   "outputs": [],
   "source": [
    "from __future__ import division, print_function\n",
    "import numpy as np\n",
    "import os\n",
    "import sys\n",
    "import time\n",
    "from datetime import datetime\n",
    "import json"
   ]
  },
  {
   "cell_type": "code",
   "execution_count": 56,
   "metadata": {
    "collapsed": true
   },
   "outputs": [],
   "source": [
    "RESULTS_FILE = '../results'\n",
    "def log_results(log):\n",
    "    with open(RESULTS_FILE, 'r') as in_:\n",
    "        logs = json.load(in_)\n",
    "    with open(RESULTS_FILE, 'w') as out:\n",
    "        logs.append(log)\n",
    "        json.dump(logs, out, sort_keys=True, indent=2, separators=(',', ': '))"
   ]
  },
  {
   "cell_type": "code",
   "execution_count": 68,
   "metadata": {
    "collapsed": true
   },
   "outputs": [],
   "source": [
    "class Timer():\n",
    "    def __init__(self):\n",
    "        self.start = datetime.now()\n",
    "        \n",
    "    def elapsed(self):\n",
    "        return str(datetime.now() - self.start)[:-7]"
   ]
  },
  {
   "cell_type": "markdown",
   "metadata": {},
   "source": [
    "## Load data"
   ]
  },
  {
   "cell_type": "code",
   "execution_count": 71,
   "metadata": {
    "collapsed": true
   },
   "outputs": [],
   "source": [
    "import cPickle as pickle\n",
    "with open('rma.pickle', 'rb') as in_:\n",
    "    rma = pickle.load(in_)\n",
    "with open('drug.pickle', 'rb') as in_:\n",
    "    drug = pickle.load(in_)\n",
    "with open('stress.pickle', 'rb') as in_:\n",
    "    stress = pickle.load(in_)"
   ]
  },
  {
   "cell_type": "markdown",
   "metadata": {},
   "source": [
    "## Experiments"
   ]
  },
  {
   "cell_type": "code",
   "execution_count": 23,
   "metadata": {
    "collapsed": true
   },
   "outputs": [],
   "source": [
    "from sklearn.cross_validation import StratifiedKFold, StratifiedShuffleSplit\n",
    "from sklearn.grid_search import GridSearchCV\n",
    "from sklearn.svm import SVC\n",
    "from sklearn.metrics import accuracy_score\n",
    "from datetime import datetime"
   ]
  },
  {
   "cell_type": "code",
   "execution_count": 75,
   "metadata": {
    "collapsed": false
   },
   "outputs": [
    {
     "name": "stdout",
     "output_type": "stream",
     "text": [
      "0:00:00: Iteration 0\tAccuracy: 80.00% +/- 0.00%\n",
      "0:05:51: Iteration 1\tAccuracy: 82.50% +/- 2.50%\n",
      "0:11:46: Iteration 2\tAccuracy: 82.50% +/- 2.04%\n",
      "0:17:43: Iteration 3\tAccuracy: 80.00% +/- 4.68%\n",
      "0:23:41: Iteration 4\tAccuracy: 78.50% +/- 5.15%\n",
      "0:29:00: Iteration 5\tAccuracy: 77.92% +/- 4.88%\n",
      "0:34:27: Iteration 6\tAccuracy: 76.79% +/- 5.30%\n",
      "0:40:07: Iteration 7\tAccuracy: 75.62% +/- 5.83%\n",
      "0:45:43: Iteration 8\tAccuracy: 75.83% +/- 5.53%\n",
      "0:51:34: Iteration 9\tAccuracy: 76.25% +/- 5.39%\n",
      "\n",
      "0:57:07: Accuracy: 76.25% +/- 5.39%\n"
     ]
    }
   ],
   "source": [
    "C_range = np.logspace(-2, 7, 10)\n",
    "gamma_range = np.logspace(-6, 3, 10)\n",
    "param_grid = dict(gamma=gamma_range, C=C_range)\n",
    "\n",
    "n_iter = 10\n",
    "n_folds = 10\n",
    "test_size = 0.3\n",
    "\n",
    "log = {\n",
    "    'target': 'stress',\n",
    "    'split': {\n",
    "        'type': 'StratifiedShuffleSplit',\n",
    "        'n_iter': n_iter,\n",
    "        'test_size': test_size\n",
    "    },\n",
    "    'cross_val': {\n",
    "        'type': 'StratifiedKFold',\n",
    "        'n_folds': n_folds,\n",
    "        'shuffle': True\n",
    "    },\n",
    "    'classifier': 'SVC'\n",
    "    \n",
    "}\n",
    "\n",
    "accuracy = np.full((n_iter,), np.nan)\n",
    "\n",
    "timer = Timer()\n",
    "split = StratifiedShuffleSplit(stress['str'], n_iter=n_iter, test_size=test_size)\n",
    "for i, (train, test) in enumerate(split):\n",
    "    print('{}: Iteration {}'.format(timer.elapsed(), i), end='')\n",
    "    \n",
    "    cross_val = StratifiedKFold(stress.ix[train, 'str'], n_folds=n_folds, shuffle=True)\n",
    "    grid = GridSearchCV(SVC(), param_grid=param_grid, cv=cross_val, n_jobs=-1)\n",
    "    grid.fit(rma.iloc[train], stress.ix[train, 'str'])\n",
    "    \n",
    "    pred = grid.predict(rma.iloc[test])\n",
    "    accuracy[i] = accuracy_score(stress.ix[test, 'str'], pred)\n",
    "\n",
    "    print('\\tAccuracy: {:.2%} +/- {:.2%}'.format(np.nanmean(accuracy), np.nanstd(accuracy)))\n",
    "    \n",
    "\n",
    "print('\\n{}: Accuracy: {:.2%} +/- {:.2%}'.format(timer.elapsed(), np.nanmean(accuracy), np.nanstd(accuracy)))\n",
    "\n",
    "log['results'] = {'accuracy': {'mean': accuracy.mean(), 'std': accuracy.std()}, 'time': timer.elapsed()}\n",
    "log_results(log)"
   ]
  },
  {
   "cell_type": "markdown",
   "metadata": {},
   "source": [
    "#### Simplified"
   ]
  },
  {
   "cell_type": "code",
   "execution_count": 1,
   "metadata": {
    "collapsed": true
   },
   "outputs": [],
   "source": [
    "from sklearn.cross_validation import cross_val_score"
   ]
  },
  {
   "cell_type": "code",
   "execution_count": null,
   "metadata": {
    "collapsed": true
   },
   "outputs": [],
   "source": [
    "C_range = np.logspace(-2, 7, 10)\n",
    "gamma_range = np.logspace(-6, 3, 10)\n",
    "param_grid = dict(gamma=gamma_range, C=C_range)\n",
    "\n",
    "n_iter = 10\n",
    "n_folds = 10\n",
    "test_size = 0.1\n",
    "\n",
    "log = {\n",
    "    'target': 'stress',\n",
    "    'split': {\n",
    "        'type': 'StratifiedShuffleSplit',\n",
    "        'n_iter': n_iter,\n",
    "        'test_size': test_size\n",
    "    },\n",
    "    'cross_val': {\n",
    "        'type': 'StratifiedKFold',\n",
    "        'n_folds': n_folds,\n",
    "        'shuffle': True\n",
    "    },\n",
    "    'classifier': 'SVC'\n",
    "    \n",
    "}\n",
    "\n",
    "timer = Timer()\n",
    "split = StratifiedShuffleSplit(stress['str'], n_iter=n_iter, test_size=test_size)\n",
    "grid = GridSearchCV(SVC(), param_grid=param_grid, cv=n_folds, n_jobs=-1)\n",
    "accuracy = cross_val_score(grid, rma, y=stress['str'], scoring='accuracy', cv=split, n_jobs=-1, verbose=1)\n",
    "print('\\n{}: Accuracy: {:.2%} +/- {:.2%}'.format(timer.elapsed(), np.nanmean(accuracy), np.nanstd(accuracy)))\n",
    "\n",
    "log['results'] = {'accuracy': {'mean': accuracy.mean(), 'std': accuracy.std()}, 'time': timer.elapsed()}\n",
    "log_results(log)"
   ]
  }
 ],
 "metadata": {
  "kernelspec": {
   "display_name": "Python 2",
   "language": "python",
   "name": "python2"
  },
  "language_info": {
   "codemirror_mode": {
    "name": "ipython",
    "version": 2
   },
   "file_extension": ".py",
   "mimetype": "text/x-python",
   "name": "python",
   "nbconvert_exporter": "python",
   "pygments_lexer": "ipython2",
   "version": "2.7.10"
  }
 },
 "nbformat": 4,
 "nbformat_minor": 0
}
