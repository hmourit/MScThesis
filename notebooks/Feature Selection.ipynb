{
 "cells": [
  {
   "cell_type": "code",
   "execution_count": 1,
   "metadata": {
    "collapsed": false
   },
   "outputs": [
    {
     "name": "stdout",
     "output_type": "stream",
     "text": [
      "Current directory: /Users/hmourit/Documents/0project/MScThesis\n"
     ]
    }
   ],
   "source": [
    "from __future__ import division, print_function\n",
    "import numpy as np\n",
    "import pandas as pd\n",
    "import matplotlib.pyplot as plt\n",
    "%matplotlib inline\n",
    "import seaborn as sns\n",
    "sns.set()\n",
    "\n",
    "import os\n",
    "import sys\n",
    "print('Current directory:', os.getcwd())\n",
    "from time import time"
   ]
  },
  {
   "cell_type": "code",
   "execution_count": 2,
   "metadata": {
    "collapsed": true
   },
   "outputs": [],
   "source": [
    "from data import load_mdd_data"
   ]
  },
  {
   "cell_type": "code",
   "execution_count": 3,
   "metadata": {
    "collapsed": true
   },
   "outputs": [],
   "source": [
    "data, factors = load_mdd_data(data_path='../bucket/data/mdd/')"
   ]
  },
  {
   "cell_type": "code",
   "execution_count": 4,
   "metadata": {
    "collapsed": false
   },
   "outputs": [
    {
     "data": {
      "text/html": [
       "<div>\n",
       "<table border=\"1\" class=\"dataframe\">\n",
       "  <thead>\n",
       "    <tr style=\"text-align: right;\">\n",
       "      <th>ProbeID</th>\n",
       "      <th>1415670_at</th>\n",
       "      <th>1415671_at</th>\n",
       "      <th>1415672_at</th>\n",
       "      <th>1415673_at</th>\n",
       "      <th>1415674_a_at</th>\n",
       "      <th>1415675_at</th>\n",
       "      <th>1415676_a_at</th>\n",
       "      <th>1415677_at</th>\n",
       "      <th>1415678_at</th>\n",
       "      <th>1415679_at</th>\n",
       "      <th>...</th>\n",
       "      <th>1460736_at</th>\n",
       "      <th>1460737_at</th>\n",
       "      <th>1460738_at</th>\n",
       "      <th>1460739_at</th>\n",
       "      <th>1460740_at</th>\n",
       "      <th>1460741_x_at</th>\n",
       "      <th>1460742_at</th>\n",
       "      <th>1460743_at</th>\n",
       "      <th>1460744_at</th>\n",
       "      <th>1460746_at</th>\n",
       "    </tr>\n",
       "  </thead>\n",
       "  <tbody>\n",
       "    <tr>\n",
       "      <th>230107_117_gendep_moe4302_md_a_n_dba_f.CEL</th>\n",
       "      <td>9.087890</td>\n",
       "      <td>11.025595</td>\n",
       "      <td>10.218794</td>\n",
       "      <td>7.375952</td>\n",
       "      <td>8.652590</td>\n",
       "      <td>8.518571</td>\n",
       "      <td>10.673762</td>\n",
       "      <td>8.890630</td>\n",
       "      <td>9.745088</td>\n",
       "      <td>9.441357</td>\n",
       "      <td>...</td>\n",
       "      <td>7.174680</td>\n",
       "      <td>7.342347</td>\n",
       "      <td>5.455882</td>\n",
       "      <td>8.226961</td>\n",
       "      <td>7.905081</td>\n",
       "      <td>8.069678</td>\n",
       "      <td>6.784496</td>\n",
       "      <td>5.042267</td>\n",
       "      <td>4.808693</td>\n",
       "      <td>3.220549</td>\n",
       "    </tr>\n",
       "    <tr>\n",
       "      <th>230107_11_gendep_moe4302_cms_a_e_c57_f.CEL</th>\n",
       "      <td>9.122277</td>\n",
       "      <td>11.013614</td>\n",
       "      <td>10.297756</td>\n",
       "      <td>7.627602</td>\n",
       "      <td>8.591699</td>\n",
       "      <td>8.428379</td>\n",
       "      <td>10.678632</td>\n",
       "      <td>8.795049</td>\n",
       "      <td>9.707793</td>\n",
       "      <td>9.749562</td>\n",
       "      <td>...</td>\n",
       "      <td>7.445484</td>\n",
       "      <td>7.360822</td>\n",
       "      <td>5.734060</td>\n",
       "      <td>8.233840</td>\n",
       "      <td>8.071919</td>\n",
       "      <td>8.354469</td>\n",
       "      <td>6.902321</td>\n",
       "      <td>5.023841</td>\n",
       "      <td>4.582879</td>\n",
       "      <td>3.258242</td>\n",
       "    </tr>\n",
       "    <tr>\n",
       "      <th>230107_120_gendep_moe4302_md_a_n_fvb_m.CEL</th>\n",
       "      <td>9.060194</td>\n",
       "      <td>10.882136</td>\n",
       "      <td>10.284965</td>\n",
       "      <td>7.504721</td>\n",
       "      <td>8.756083</td>\n",
       "      <td>8.434395</td>\n",
       "      <td>10.537865</td>\n",
       "      <td>8.674806</td>\n",
       "      <td>9.773067</td>\n",
       "      <td>9.794081</td>\n",
       "      <td>...</td>\n",
       "      <td>7.404513</td>\n",
       "      <td>7.286996</td>\n",
       "      <td>5.573860</td>\n",
       "      <td>8.107315</td>\n",
       "      <td>7.841050</td>\n",
       "      <td>7.983196</td>\n",
       "      <td>7.016586</td>\n",
       "      <td>5.023105</td>\n",
       "      <td>4.855476</td>\n",
       "      <td>3.752214</td>\n",
       "    </tr>\n",
       "    <tr>\n",
       "      <th>230107_123_gendep_moe4302_md_c_c_c57_f.CEL</th>\n",
       "      <td>8.977349</td>\n",
       "      <td>11.040860</td>\n",
       "      <td>10.215949</td>\n",
       "      <td>7.650994</td>\n",
       "      <td>8.556905</td>\n",
       "      <td>8.546056</td>\n",
       "      <td>10.687612</td>\n",
       "      <td>8.812879</td>\n",
       "      <td>9.658495</td>\n",
       "      <td>9.824554</td>\n",
       "      <td>...</td>\n",
       "      <td>7.403390</td>\n",
       "      <td>7.000761</td>\n",
       "      <td>5.658862</td>\n",
       "      <td>8.325231</td>\n",
       "      <td>7.950617</td>\n",
       "      <td>8.374037</td>\n",
       "      <td>7.069368</td>\n",
       "      <td>4.903711</td>\n",
       "      <td>4.698846</td>\n",
       "      <td>3.589178</td>\n",
       "    </tr>\n",
       "    <tr>\n",
       "      <th>230107_137_gendep_moe4302_md_c_n_129_f.CEL</th>\n",
       "      <td>9.078272</td>\n",
       "      <td>11.031812</td>\n",
       "      <td>10.109470</td>\n",
       "      <td>7.583355</td>\n",
       "      <td>8.851798</td>\n",
       "      <td>8.558529</td>\n",
       "      <td>10.834130</td>\n",
       "      <td>8.913428</td>\n",
       "      <td>9.893105</td>\n",
       "      <td>9.807080</td>\n",
       "      <td>...</td>\n",
       "      <td>7.471499</td>\n",
       "      <td>6.833002</td>\n",
       "      <td>5.568804</td>\n",
       "      <td>8.132989</td>\n",
       "      <td>8.300152</td>\n",
       "      <td>7.929929</td>\n",
       "      <td>7.044670</td>\n",
       "      <td>4.989099</td>\n",
       "      <td>5.127954</td>\n",
       "      <td>3.996343</td>\n",
       "    </tr>\n",
       "  </tbody>\n",
       "</table>\n",
       "<p>5 rows × 37231 columns</p>\n",
       "</div>"
      ],
      "text/plain": [
       "ProbeID                                     1415670_at  1415671_at  \\\n",
       "230107_117_gendep_moe4302_md_a_n_dba_f.CEL    9.087890   11.025595   \n",
       "230107_11_gendep_moe4302_cms_a_e_c57_f.CEL    9.122277   11.013614   \n",
       "230107_120_gendep_moe4302_md_a_n_fvb_m.CEL    9.060194   10.882136   \n",
       "230107_123_gendep_moe4302_md_c_c_c57_f.CEL    8.977349   11.040860   \n",
       "230107_137_gendep_moe4302_md_c_n_129_f.CEL    9.078272   11.031812   \n",
       "\n",
       "ProbeID                                     1415672_at  1415673_at  \\\n",
       "230107_117_gendep_moe4302_md_a_n_dba_f.CEL   10.218794    7.375952   \n",
       "230107_11_gendep_moe4302_cms_a_e_c57_f.CEL   10.297756    7.627602   \n",
       "230107_120_gendep_moe4302_md_a_n_fvb_m.CEL   10.284965    7.504721   \n",
       "230107_123_gendep_moe4302_md_c_c_c57_f.CEL   10.215949    7.650994   \n",
       "230107_137_gendep_moe4302_md_c_n_129_f.CEL   10.109470    7.583355   \n",
       "\n",
       "ProbeID                                     1415674_a_at  1415675_at  \\\n",
       "230107_117_gendep_moe4302_md_a_n_dba_f.CEL      8.652590    8.518571   \n",
       "230107_11_gendep_moe4302_cms_a_e_c57_f.CEL      8.591699    8.428379   \n",
       "230107_120_gendep_moe4302_md_a_n_fvb_m.CEL      8.756083    8.434395   \n",
       "230107_123_gendep_moe4302_md_c_c_c57_f.CEL      8.556905    8.546056   \n",
       "230107_137_gendep_moe4302_md_c_n_129_f.CEL      8.851798    8.558529   \n",
       "\n",
       "ProbeID                                     1415676_a_at  1415677_at  \\\n",
       "230107_117_gendep_moe4302_md_a_n_dba_f.CEL     10.673762    8.890630   \n",
       "230107_11_gendep_moe4302_cms_a_e_c57_f.CEL     10.678632    8.795049   \n",
       "230107_120_gendep_moe4302_md_a_n_fvb_m.CEL     10.537865    8.674806   \n",
       "230107_123_gendep_moe4302_md_c_c_c57_f.CEL     10.687612    8.812879   \n",
       "230107_137_gendep_moe4302_md_c_n_129_f.CEL     10.834130    8.913428   \n",
       "\n",
       "ProbeID                                     1415678_at  1415679_at  \\\n",
       "230107_117_gendep_moe4302_md_a_n_dba_f.CEL    9.745088    9.441357   \n",
       "230107_11_gendep_moe4302_cms_a_e_c57_f.CEL    9.707793    9.749562   \n",
       "230107_120_gendep_moe4302_md_a_n_fvb_m.CEL    9.773067    9.794081   \n",
       "230107_123_gendep_moe4302_md_c_c_c57_f.CEL    9.658495    9.824554   \n",
       "230107_137_gendep_moe4302_md_c_n_129_f.CEL    9.893105    9.807080   \n",
       "\n",
       "ProbeID                                        ...      1460736_at  \\\n",
       "230107_117_gendep_moe4302_md_a_n_dba_f.CEL     ...        7.174680   \n",
       "230107_11_gendep_moe4302_cms_a_e_c57_f.CEL     ...        7.445484   \n",
       "230107_120_gendep_moe4302_md_a_n_fvb_m.CEL     ...        7.404513   \n",
       "230107_123_gendep_moe4302_md_c_c_c57_f.CEL     ...        7.403390   \n",
       "230107_137_gendep_moe4302_md_c_n_129_f.CEL     ...        7.471499   \n",
       "\n",
       "ProbeID                                     1460737_at  1460738_at  \\\n",
       "230107_117_gendep_moe4302_md_a_n_dba_f.CEL    7.342347    5.455882   \n",
       "230107_11_gendep_moe4302_cms_a_e_c57_f.CEL    7.360822    5.734060   \n",
       "230107_120_gendep_moe4302_md_a_n_fvb_m.CEL    7.286996    5.573860   \n",
       "230107_123_gendep_moe4302_md_c_c_c57_f.CEL    7.000761    5.658862   \n",
       "230107_137_gendep_moe4302_md_c_n_129_f.CEL    6.833002    5.568804   \n",
       "\n",
       "ProbeID                                     1460739_at  1460740_at  \\\n",
       "230107_117_gendep_moe4302_md_a_n_dba_f.CEL    8.226961    7.905081   \n",
       "230107_11_gendep_moe4302_cms_a_e_c57_f.CEL    8.233840    8.071919   \n",
       "230107_120_gendep_moe4302_md_a_n_fvb_m.CEL    8.107315    7.841050   \n",
       "230107_123_gendep_moe4302_md_c_c_c57_f.CEL    8.325231    7.950617   \n",
       "230107_137_gendep_moe4302_md_c_n_129_f.CEL    8.132989    8.300152   \n",
       "\n",
       "ProbeID                                     1460741_x_at  1460742_at  \\\n",
       "230107_117_gendep_moe4302_md_a_n_dba_f.CEL      8.069678    6.784496   \n",
       "230107_11_gendep_moe4302_cms_a_e_c57_f.CEL      8.354469    6.902321   \n",
       "230107_120_gendep_moe4302_md_a_n_fvb_m.CEL      7.983196    7.016586   \n",
       "230107_123_gendep_moe4302_md_c_c_c57_f.CEL      8.374037    7.069368   \n",
       "230107_137_gendep_moe4302_md_c_n_129_f.CEL      7.929929    7.044670   \n",
       "\n",
       "ProbeID                                     1460743_at  1460744_at  1460746_at  \n",
       "230107_117_gendep_moe4302_md_a_n_dba_f.CEL    5.042267    4.808693    3.220549  \n",
       "230107_11_gendep_moe4302_cms_a_e_c57_f.CEL    5.023841    4.582879    3.258242  \n",
       "230107_120_gendep_moe4302_md_a_n_fvb_m.CEL    5.023105    4.855476    3.752214  \n",
       "230107_123_gendep_moe4302_md_c_c_c57_f.CEL    4.903711    4.698846    3.589178  \n",
       "230107_137_gendep_moe4302_md_c_n_129_f.CEL    4.989099    5.127954    3.996343  \n",
       "\n",
       "[5 rows x 37231 columns]"
      ]
     },
     "execution_count": 4,
     "metadata": {},
     "output_type": "execute_result"
    }
   ],
   "source": [
    "df = data\n",
    "df.head()"
   ]
  },
  {
   "cell_type": "code",
   "execution_count": 5,
   "metadata": {
    "collapsed": false
   },
   "outputs": [
    {
     "name": "stdout",
     "output_type": "stream",
     "text": [
      "<class 'pandas.core.frame.DataFrame'>\n",
      "Index: 134 entries, 230107_117_gendep_moe4302_md_a_n_dba_f.CEL to 280107_9_gendep_moe4302_cms_a_e_129_f.CEL\n",
      "Columns: 37231 entries, 1415670_at to 1460746_at\n",
      "dtypes: float64(37231)\n",
      "memory usage: 38.1+ MB\n"
     ]
    }
   ],
   "source": [
    "df.info()"
   ]
  },
  {
   "cell_type": "code",
   "execution_count": 6,
   "metadata": {
    "collapsed": false
   },
   "outputs": [],
   "source": [
    "from sklearn.preprocessing import LabelEncoder\n",
    "y = factors['stress']\n",
    "y = LabelEncoder().fit_transform(y)"
   ]
  },
  {
   "cell_type": "code",
   "execution_count": 7,
   "metadata": {
    "collapsed": false
   },
   "outputs": [],
   "source": [
    "from feature_selection import mrmr, mrmr_pool\n",
    "from preprocessing.discretization import ExpressionDiscretizer"
   ]
  },
  {
   "cell_type": "code",
   "execution_count": 8,
   "metadata": {
    "collapsed": true
   },
   "outputs": [],
   "source": [
    "discr = ExpressionDiscretizer().fit(data).transform(data)"
   ]
  },
  {
   "cell_type": "code",
   "execution_count": 9,
   "metadata": {
    "collapsed": false
   },
   "outputs": [],
   "source": [
    "# %%time\n",
    "# feats = mrmr(discr, y, select=100, bins=3)"
   ]
  },
  {
   "cell_type": "code",
   "execution_count": 10,
   "metadata": {
    "collapsed": false
   },
   "outputs": [],
   "source": [
    "# %%time\n",
    "# feats2 = mrmr_pool(discr, y, select=100, pool_size=100, bins=3)"
   ]
  },
  {
   "cell_type": "code",
   "execution_count": 9,
   "metadata": {
    "collapsed": false
   },
   "outputs": [
    {
     "name": "stdout",
     "output_type": "stream",
     "text": [
      "Feat  Pool  Time\n",
      "4805  100   10\n",
      "8765  98    24\n",
      "2340  97    36\n",
      "29271 96    48\n",
      "15053 95    57\n",
      "458   94    67\n",
      "7922  93    79\n",
      "3050  92    89\n",
      "35625 191   99\n",
      "9709  190   108\n",
      "32527 189   118\n",
      "36801 188   127\n",
      "10159 187   137\n",
      "6865  186   147\n",
      "6707  185   157\n",
      "27577 184   168\n",
      "2547  183   178\n",
      "17158 182   189\n",
      "32182 181   199\n",
      "30576 180   209\n",
      "1936  179   221\n",
      "26914 178   235\n",
      "19176 177   247\n",
      "25969 176   258\n",
      "33482 175   270\n",
      "29720 174   280\n",
      "18487 173   290\n",
      "28996 172   300\n",
      "30194 171   310\n",
      "9393  170   321\n",
      "6493  169   333\n",
      "27544 168   345\n",
      "1012  167   356\n",
      "1933  166   371\n",
      "17818 165   383\n",
      "15054 164   394\n",
      "32172 163   405\n",
      "19031 162   416\n",
      "11687 161   427\n",
      "5708  160   438\n",
      "36764 159   451\n",
      "30068 158   462\n",
      "12953 157   472\n",
      "26063 156   489\n",
      "26673 155   500\n",
      "3940  154   510\n",
      "3078  153   522\n",
      "4657  152   538\n",
      "29638 151   552\n",
      "5622  150   562\n",
      "1657  149   572\n",
      "36796 148   581\n",
      "22472 147   593\n",
      "29602 146   604\n",
      "27709 145   616\n",
      "28868 144   627\n",
      "4501  143   638\n",
      "6261  142   650\n",
      "23710 141   661\n",
      "18942 140   671\n",
      "30305 139   681\n",
      "26765 138   692\n",
      "6559  137   703\n",
      "221   136   713\n",
      "11051 135   723\n",
      "32242 134   735\n",
      "16896 133   744\n",
      "9810  132   755\n",
      "6013  131   765\n",
      "25706 130   774\n",
      "34091 129   785\n",
      "17182 128   796\n",
      "30172 127   806\n",
      "3303  126   815\n",
      "27019 125   825\n",
      "27051 124   835\n",
      "5221  123   845\n",
      "20102 122   855\n",
      "14389 121   865\n",
      "30864 120   876\n",
      "18093 119   887\n",
      "8257  118   899\n",
      "662   117   909\n",
      "26932 116   921\n",
      "24032 115   932\n",
      "15961 114   943\n",
      "517   113   953\n",
      "23709 112   966\n",
      "4141  111   980\n",
      "19414 110   994\n",
      "31049 109   1007\n",
      "29839 108   1017\n",
      "3403  107   1032\n",
      "18555 106   1043\n",
      "12777 105   1056\n",
      "2652  104   1066\n",
      "15195 103   1080\n",
      "1211  102   1092\n",
      "6263  101   1104\n",
      "29762 100   1114\n"
     ]
    }
   ],
   "source": [
    "feats2 = mrmr_pool(discr, y, select=100, pool_size=100, bins=3, verbose=True)"
   ]
  },
  {
   "cell_type": "code",
   "execution_count": null,
   "metadata": {
    "collapsed": true
   },
   "outputs": [],
   "source": []
  }
 ],
 "metadata": {
  "kernelspec": {
   "display_name": "Python 2",
   "language": "python",
   "name": "python2"
  },
  "language_info": {
   "codemirror_mode": {
    "name": "ipython",
    "version": 2
   },
   "file_extension": ".py",
   "mimetype": "text/x-python",
   "name": "python",
   "nbconvert_exporter": "python",
   "pygments_lexer": "ipython2",
   "version": "2.7.10"
  }
 },
 "nbformat": 4,
 "nbformat_minor": 0
}
