{
 "cells": [
  {
   "cell_type": "code",
   "execution_count": 100,
   "metadata": {
    "collapsed": true
   },
   "outputs": [],
   "source": [
    "from __future__ import division, print_function"
   ]
  },
  {
   "cell_type": "code",
   "execution_count": 101,
   "metadata": {
    "collapsed": true
   },
   "outputs": [],
   "source": [
    "import matplotlib.pyplot as plt\n",
    "import numpy as np\n",
    "import pandas as pd\n",
    "%matplotlib inline\n",
    "import os\n",
    "import json\n",
    "from pprint import pprint\n",
    "from results import read_results, flatten_json"
   ]
  },
  {
   "cell_type": "code",
   "execution_count": 150,
   "metadata": {
    "collapsed": false
   },
   "outputs": [
    {
     "data": {
      "text/plain": [
       "'/Users/hmourit/Documents/0project/MScThesis'"
      ]
     },
     "execution_count": 150,
     "metadata": {},
     "output_type": "execute_result"
    }
   ],
   "source": [
    "# os.chdir('./0project/MScThesis/')\n",
    "results_path = '../bucket/results/'\n",
    "results_files = os.path.join(results_path, 'result_*.json')\n",
    "\n",
    "graphs_path = '../'\n",
    "\n",
    "figures_path = '/Users/hmourit/Dropbox/MSc Thesis/figures'\n",
    "graphs_path = figures_path\n",
    "os.getcwd()"
   ]
  },
  {
   "cell_type": "code",
   "execution_count": null,
   "metadata": {
    "collapsed": false
   },
   "outputs": [],
   "source": [
    "# results = json.load(open('./results/results.json', 'r'))\n",
    "# results = pd.io.json.json_normalize(results)\n",
    "# results['target'] = results.target.fillna('drug')\n",
    "# results"
   ]
  },
  {
   "cell_type": "code",
   "execution_count": null,
   "metadata": {
    "collapsed": false
   },
   "outputs": [],
   "source": [
    "# temp = results[results['split.test_size'] == 0.1][results['classifier'] == 'EN']\n",
    "# temp = temp[['split.n_iter', 'cross_val.n_folds', 'results.accuracy.mean', 'results.accuracy.std', 'target']]\n",
    "# temp[temp['target'] == 'drug']"
   ]
  },
  {
   "cell_type": "code",
   "execution_count": null,
   "metadata": {
    "collapsed": false
   },
   "outputs": [],
   "source": [
    "# temp = results[results['classifier'] == 'SVC']\n",
    "# temp = temp[['split.test_size', 'split.n_iter', 'cross_val.n_folds', 'results.accuracy.mean', 'results.accuracy.std', 'target']]\n",
    "# temp[temp['target'] == 'drug']"
   ]
  },
  {
   "cell_type": "code",
   "execution_count": null,
   "metadata": {
    "collapsed": true
   },
   "outputs": [],
   "source": [
    "# keys = ['classifier', 'cross_val.n_folds', 'split.test_size', 'target']\n",
    "keys = ['classifier', 'target']"
   ]
  },
  {
   "cell_type": "code",
   "execution_count": null,
   "metadata": {
    "collapsed": false
   },
   "outputs": [],
   "source": [
    "# def combine_means_and_stds(results, keys):\n",
    "# results['n*mu'] = results['split.n_iter'] * results['results.accuracy.mean']\n",
    "# results['ns2m2'] = results['split.n_iter'] * \\\n",
    "#     (results['results.accuracy.std']**2 + results['results.accuracy.mean']**2)\n",
    "# aggregated = results.groupby(keys).agg(np.sum)\n",
    "# aggregated['mean'] = aggregated['n*mu'] / aggregated['split.n_iter']\n",
    "# aggregated['variance'] = (aggregated['ns2m2'] - aggregated['mean']**2 * aggregated['split.n_iter']) / aggregated['split.n_iter']\n",
    "# aggregated['std'] = np.sqrt(aggregated['variance'])\n",
    "# aggregated[['split.n_iter', 'mean', 'std']]"
   ]
  },
  {
   "cell_type": "code",
   "execution_count": null,
   "metadata": {
    "collapsed": false
   },
   "outputs": [],
   "source": [
    "# pprint(aggregated[['split.n_iter', 'mean', 'std']].to_json())"
   ]
  },
  {
   "cell_type": "code",
   "execution_count": null,
   "metadata": {
    "collapsed": true
   },
   "outputs": [],
   "source": []
  },
  {
   "cell_type": "code",
   "execution_count": null,
   "metadata": {
    "collapsed": false
   },
   "outputs": [],
   "source": [
    "combine_means_and_stds(results, keys)"
   ]
  },
  {
   "cell_type": "code",
   "execution_count": null,
   "metadata": {
    "collapsed": false
   },
   "outputs": [],
   "source": [
    "aggregated = grouped.agg(np.sum)\n",
    "aggregated"
   ]
  },
  {
   "cell_type": "code",
   "execution_count": null,
   "metadata": {
    "collapsed": false
   },
   "outputs": [],
   "source": [
    "aggregated['new_mu'] = aggregated['n*mu'] / aggregated['split.n_iter']\n",
    "aggregated"
   ]
  },
  {
   "cell_type": "code",
   "execution_count": null,
   "metadata": {
    "collapsed": false
   },
   "outputs": [],
   "source": [
    "results.join(aggregated['new_mu'], on=['classifier', 'cross_val.n_folds', 'split.test_size', 'target'])"
   ]
  },
  {
   "cell_type": "code",
   "execution_count": null,
   "metadata": {
    "collapsed": false
   },
   "outputs": [],
   "source": [
    "foo = np.random.normal(0.414286, 0.162255, (10,))\n",
    "print(foo.mean(), foo.std())\n",
    "foo2 = (foo - foo.mean()) / foo.std()\n",
    "print(foo2.mean(), foo2.std())\n",
    "foo3 = (foo2 * 0.162255) + 0.414286\n",
    "print(foo3.mean(), foo3.std())"
   ]
  },
  {
   "cell_type": "code",
   "execution_count": 112,
   "metadata": {
    "collapsed": true
   },
   "outputs": [],
   "source": [
    "def fake_scores(n, mu, std):\n",
    "    fake = np.random.normal(mu, std, (n,))\n",
    "    fake = (fake - fake.mean()) / fake.std()\n",
    "    fake = fake * std + mu\n",
    "    return fake"
   ]
  },
  {
   "cell_type": "code",
   "execution_count": 113,
   "metadata": {
    "collapsed": false
   },
   "outputs": [],
   "source": [
    "results = json.load(open(os.path.join(results_path, 'results.json'), 'r'))\n",
    "for result in results:\n",
    "    experiment_id = hash(json.dumps(result))\n",
    "    result['experiment_id'] = experiment_id\n",
    "    result['data'] = 'mdd_transcriptomics'\n",
    "    if 'target' not in result:\n",
    "        result['target'] = 'drug'\n",
    "    n = result['split']['n_iter']\n",
    "    mu = result['results']['accuracy']['mean']\n",
    "    std = result['results']['accuracy']['std']\n",
    "    result['results']['accuracy']['scores'] = fake_scores(n, mu, std).tolist()\n",
    "    with open(os.path.join(results_path, 'result_{}.json'.format(experiment_id)), 'w') as out:\n",
    "        json.dump(result, out, sort_keys=True, indent=2, separators=(',', ': '))"
   ]
  },
  {
   "cell_type": "code",
   "execution_count": null,
   "metadata": {
    "collapsed": false
   },
   "outputs": [],
   "source": [
    "# file_ = os.path.join(results_path, 'results_new.json')\n",
    "# experiments = {}\n",
    "# results = json.load(open(file_, 'r'))\n",
    "# for result in results:\n",
    "#     if result['experiment_id'] not in experiments:\n",
    "#         experiments[result['experiment_id']] = result\n",
    "#         result['results'] = {'accuracy': {'scores': []}}\n",
    "#     experiments[result['experiment_id']]['resultbs']['accuracy']['scores'].append(result['accuracy'])\n",
    "\n",
    "# for experiment in experiments.values():\n",
    "#     experiment['results']['accuracy']['mean'] = np.mean(experiment['results']['accuracy']['scores'])\n",
    "#     experiment['results']['accuracy']['std'] = np.std(experiment['results']['accuracy']['scores'])\n",
    "#     del experiment['accuracy']\n",
    "#     if 'data' not in experiment:\n",
    "#         experiment['data'] = 'mdd_transcriptomics'\n",
    "#     with open(os.path.join(results_path, 'result_{}.json'.format(experiment['experiment_id'])), 'w') as out:\n",
    "#         json.dump(experiment, out, sort_keys=True, indent=2, separators=(',', ': '))"
   ]
  },
  {
   "cell_type": "code",
   "execution_count": 156,
   "metadata": {
    "collapsed": false
   },
   "outputs": [
    {
     "data": {
      "text/html": [
       "<div>\n",
       "<table border=\"1\" class=\"dataframe\">\n",
       "  <thead>\n",
       "    <tr style=\"text-align: right;\">\n",
       "      <th></th>\n",
       "      <th>classifier</th>\n",
       "      <th>cross_val.n_folds</th>\n",
       "      <th>cross_val.shuffle</th>\n",
       "      <th>cross_val.type</th>\n",
       "      <th>data</th>\n",
       "      <th>experiment_id</th>\n",
       "      <th>pca.n_components</th>\n",
       "      <th>results.accuracy.mean</th>\n",
       "      <th>results.accuracy.scores</th>\n",
       "      <th>results.accuracy.std</th>\n",
       "      <th>results.time</th>\n",
       "      <th>split.n_iter</th>\n",
       "      <th>split.test_size</th>\n",
       "      <th>split.type</th>\n",
       "      <th>std_select.n_feat</th>\n",
       "      <th>target</th>\n",
       "      <th>time</th>\n",
       "    </tr>\n",
       "  </thead>\n",
       "  <tbody>\n",
       "    <tr>\n",
       "      <th>0</th>\n",
       "      <td>logit</td>\n",
       "      <td>10</td>\n",
       "      <td>NaN</td>\n",
       "      <td>NaN</td>\n",
       "      <td>NaN</td>\n",
       "      <td>-1008626272003486614</td>\n",
       "      <td>40</td>\n",
       "      <td>0.788</td>\n",
       "      <td>0.866667</td>\n",
       "      <td>0.099501</td>\n",
       "      <td>NaN</td>\n",
       "      <td>100</td>\n",
       "      <td>0.1</td>\n",
       "      <td>StratifiedShuffleSplit</td>\n",
       "      <td>NaN</td>\n",
       "      <td>stress</td>\n",
       "      <td>0:01:11</td>\n",
       "    </tr>\n",
       "    <tr>\n",
       "      <th>1</th>\n",
       "      <td>logit</td>\n",
       "      <td>10</td>\n",
       "      <td>NaN</td>\n",
       "      <td>NaN</td>\n",
       "      <td>NaN</td>\n",
       "      <td>-1008626272003486614</td>\n",
       "      <td>40</td>\n",
       "      <td>0.788</td>\n",
       "      <td>0.933333</td>\n",
       "      <td>0.099501</td>\n",
       "      <td>NaN</td>\n",
       "      <td>100</td>\n",
       "      <td>0.1</td>\n",
       "      <td>StratifiedShuffleSplit</td>\n",
       "      <td>NaN</td>\n",
       "      <td>stress</td>\n",
       "      <td>0:01:11</td>\n",
       "    </tr>\n",
       "    <tr>\n",
       "      <th>2</th>\n",
       "      <td>logit</td>\n",
       "      <td>10</td>\n",
       "      <td>NaN</td>\n",
       "      <td>NaN</td>\n",
       "      <td>NaN</td>\n",
       "      <td>-1008626272003486614</td>\n",
       "      <td>40</td>\n",
       "      <td>0.788</td>\n",
       "      <td>0.733333</td>\n",
       "      <td>0.099501</td>\n",
       "      <td>NaN</td>\n",
       "      <td>100</td>\n",
       "      <td>0.1</td>\n",
       "      <td>StratifiedShuffleSplit</td>\n",
       "      <td>NaN</td>\n",
       "      <td>stress</td>\n",
       "      <td>0:01:11</td>\n",
       "    </tr>\n",
       "    <tr>\n",
       "      <th>3</th>\n",
       "      <td>logit</td>\n",
       "      <td>10</td>\n",
       "      <td>NaN</td>\n",
       "      <td>NaN</td>\n",
       "      <td>NaN</td>\n",
       "      <td>-1008626272003486614</td>\n",
       "      <td>40</td>\n",
       "      <td>0.788</td>\n",
       "      <td>0.600000</td>\n",
       "      <td>0.099501</td>\n",
       "      <td>NaN</td>\n",
       "      <td>100</td>\n",
       "      <td>0.1</td>\n",
       "      <td>StratifiedShuffleSplit</td>\n",
       "      <td>NaN</td>\n",
       "      <td>stress</td>\n",
       "      <td>0:01:11</td>\n",
       "    </tr>\n",
       "    <tr>\n",
       "      <th>4</th>\n",
       "      <td>logit</td>\n",
       "      <td>10</td>\n",
       "      <td>NaN</td>\n",
       "      <td>NaN</td>\n",
       "      <td>NaN</td>\n",
       "      <td>-1008626272003486614</td>\n",
       "      <td>40</td>\n",
       "      <td>0.788</td>\n",
       "      <td>0.866667</td>\n",
       "      <td>0.099501</td>\n",
       "      <td>NaN</td>\n",
       "      <td>100</td>\n",
       "      <td>0.1</td>\n",
       "      <td>StratifiedShuffleSplit</td>\n",
       "      <td>NaN</td>\n",
       "      <td>stress</td>\n",
       "      <td>0:01:11</td>\n",
       "    </tr>\n",
       "  </tbody>\n",
       "</table>\n",
       "</div>"
      ],
      "text/plain": [
       "  classifier  cross_val.n_folds cross_val.shuffle cross_val.type data  \\\n",
       "0      logit                 10               NaN            NaN  NaN   \n",
       "1      logit                 10               NaN            NaN  NaN   \n",
       "2      logit                 10               NaN            NaN  NaN   \n",
       "3      logit                 10               NaN            NaN  NaN   \n",
       "4      logit                 10               NaN            NaN  NaN   \n",
       "\n",
       "         experiment_id  pca.n_components  results.accuracy.mean  \\\n",
       "0 -1008626272003486614                40                  0.788   \n",
       "1 -1008626272003486614                40                  0.788   \n",
       "2 -1008626272003486614                40                  0.788   \n",
       "3 -1008626272003486614                40                  0.788   \n",
       "4 -1008626272003486614                40                  0.788   \n",
       "\n",
       "   results.accuracy.scores  results.accuracy.std results.time  split.n_iter  \\\n",
       "0                 0.866667              0.099501          NaN           100   \n",
       "1                 0.933333              0.099501          NaN           100   \n",
       "2                 0.733333              0.099501          NaN           100   \n",
       "3                 0.600000              0.099501          NaN           100   \n",
       "4                 0.866667              0.099501          NaN           100   \n",
       "\n",
       "   split.test_size              split.type  std_select.n_feat  target     time  \n",
       "0              0.1  StratifiedShuffleSplit                NaN  stress  0:01:11  \n",
       "1              0.1  StratifiedShuffleSplit                NaN  stress  0:01:11  \n",
       "2              0.1  StratifiedShuffleSplit                NaN  stress  0:01:11  \n",
       "3              0.1  StratifiedShuffleSplit                NaN  stress  0:01:11  \n",
       "4              0.1  StratifiedShuffleSplit                NaN  stress  0:01:11  "
      ]
     },
     "execution_count": 156,
     "metadata": {},
     "output_type": "execute_result"
    }
   ],
   "source": [
    "results = read_results(results_files, record_path='results.accuracy.scores')\n",
    "results['classifier'].replace('SVC', 'SVM')\n",
    "results['classifier'].replace('svm', 'SVM')\n",
    "results.head()"
   ]
  },
  {
   "cell_type": "code",
   "execution_count": 151,
   "metadata": {
    "collapsed": false
   },
   "outputs": [
    {
     "data": {
      "image/png": "[encoded data removed]",
      "text/plain": [
       "<matplotlib.figure.Figure at 0x10a4bba10>"
      ]
     },
     "metadata": {},
     "output_type": "display_data"
    }
   ],
   "source": [
    "group_keys = ['classifier', 'target', 'pca.n_components']\n",
    "results['classifier'] = results['classifier'].replace('SVC', 'svm')\n",
    "summary = results.groupby(group_keys).agg({'results.accuracy.scores': [len, np.mean, np.std]})\n",
    "summary = summary.loc[('logit', 'stress'), ('results.accuracy.scores')]\n",
    "plt.figure(figsize=(10, 5))\n",
    "summary['mean'].plot(yerr=summary['std'])\n",
    "plt.title('Logistic regression after PCA for stress')\n",
    "plt.xlabel('# of PCA components')\n",
    "plt.ylabel('Accuracy')\n",
    "plt.xticks(np.arange(0, max(summary.index)+1, 10))\n",
    "plt.savefig(os.path.join(graphs_path, 'accu_vs_pca_components.eps'))"
   ]
  },
  {
   "cell_type": "code",
   "execution_count": 141,
   "metadata": {
    "collapsed": false
   },
   "outputs": [
    {
     "data": {
      "text/html": [
       "<div>\n",
       "<table border=\"1\" class=\"dataframe\">\n",
       "  <thead>\n",
       "    <tr>\n",
       "      <th></th>\n",
       "      <th></th>\n",
       "      <th colspan=\"3\" halign=\"left\">Accuracy</th>\n",
       "    </tr>\n",
       "    <tr>\n",
       "      <th></th>\n",
       "      <th></th>\n",
       "      <th>len</th>\n",
       "      <th>mean</th>\n",
       "      <th>std</th>\n",
       "    </tr>\n",
       "    <tr>\n",
       "      <th>classifier</th>\n",
       "      <th>target</th>\n",
       "      <th></th>\n",
       "      <th></th>\n",
       "      <th></th>\n",
       "    </tr>\n",
       "  </thead>\n",
       "  <tbody>\n",
       "    <tr>\n",
       "      <th rowspan=\"2\" valign=\"top\">EN</th>\n",
       "      <th>drug</th>\n",
       "      <td>60</td>\n",
       "      <td>0.338995</td>\n",
       "      <td>0.042689</td>\n",
       "    </tr>\n",
       "    <tr>\n",
       "      <th>stress</th>\n",
       "      <td>50</td>\n",
       "      <td>0.377333</td>\n",
       "      <td>0.081494</td>\n",
       "    </tr>\n",
       "    <tr>\n",
       "      <th>logit</th>\n",
       "      <th>stress</th>\n",
       "      <td>1200</td>\n",
       "      <td>0.430667</td>\n",
       "      <td>0.142941</td>\n",
       "    </tr>\n",
       "    <tr>\n",
       "      <th rowspan=\"2\" valign=\"top\">svm</th>\n",
       "      <th>drug</th>\n",
       "      <td>70</td>\n",
       "      <td>0.387680</td>\n",
       "      <td>0.113130</td>\n",
       "    </tr>\n",
       "    <tr>\n",
       "      <th>stress</th>\n",
       "      <td>100</td>\n",
       "      <td>0.801500</td>\n",
       "      <td>0.097373</td>\n",
       "    </tr>\n",
       "  </tbody>\n",
       "</table>\n",
       "</div>"
      ],
      "text/plain": [
       "                  Accuracy                    \n",
       "                       len      mean       std\n",
       "classifier target                             \n",
       "EN         drug         60  0.338995  0.042689\n",
       "           stress       50  0.377333  0.081494\n",
       "logit      stress     1200  0.430667  0.142941\n",
       "svm        drug         70  0.387680  0.113130\n",
       "           stress      100  0.801500  0.097373"
      ]
     },
     "execution_count": 141,
     "metadata": {},
     "output_type": "execute_result"
    }
   ],
   "source": [
    "summ = results[(results['pca.n_components'].isnull())]\n",
    "summ = summ.rename(columns={'results.accuracy.scores': 'Accuracy'})\n",
    "keys = ['classifier', 'target']\n",
    "# keys = ['classifier', 'split.test_size', 'target']\n",
    "summ = summ.groupby(keys).agg({'Accuracy': [len, np.mean, np.std]})\n",
    "summ"
   ]
  },
  {
   "cell_type": "code",
   "execution_count": 157,
   "metadata": {
    "collapsed": false
   },
   "outputs": [
    {
     "data": {
      "image/png": "[encoded data removed]",
      "text/plain": [
       "<matplotlib.figure.Figure at 0x10a3d99d0>"
      ]
     },
     "metadata": {},
     "output_type": "display_data"
    }
   ],
   "source": [
    "summ = results[results['std_select.n_feat'].notnull()]\n",
    "summ = summ.rename(columns={'results.accuracy.scores': 'Accuracy'})\n",
    "group_keys = ['classifier', 'target', 'std_select.n_feat']\n",
    "summ = summ.groupby(group_keys).agg({'Accuracy': [len, np.mean, np.std]})\n",
    "summ = summ.loc[('logit', 'stress'), ('Accuracy')]\n",
    "plt.figure(figsize=(10, 5))\n",
    "summ['mean'].plot(yerr=summ['std'])\n",
    "plt.title('Logistic regression after variance selection for stress')\n",
    "plt.xlabel('# of features')\n",
    "plt.ylabel('Accuracy')\n",
    "plt.xticks(np.arange(0, max(summ.index)+1, 10))\n",
    "plt.savefig(os.path.join(graphs_path, 'accu_vs_std_features.eps'))"
   ]
  },
  {
   "cell_type": "code",
   "execution_count": null,
   "metadata": {
    "collapsed": true
   },
   "outputs": [],
   "source": []
  }
 ],
 "metadata": {
  "kernelspec": {
   "display_name": "Python 2",
   "language": "python",
   "name": "python2"
  },
  "language_info": {
   "codemirror_mode": {
    "name": "ipython",
    "version": 2
   },
   "file_extension": ".py",
   "mimetype": "text/x-python",
   "name": "python",
   "nbconvert_exporter": "python",
   "pygments_lexer": "ipython2",
   "version": "2.7.10"
  }
 },
 "nbformat": 4,
 "nbformat_minor": 0
}
